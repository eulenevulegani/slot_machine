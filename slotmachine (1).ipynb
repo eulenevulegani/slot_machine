{
 "cells": [
  {
   "cell_type": "code",
   "execution_count": null,
   "id": "9704fda7-0f56-4153-9c43-38b9d57132f4",
   "metadata": {},
   "outputs": [
    {
     "name": "stdin",
     "output_type": "stream",
     "text": [
      "How much would you like to deposit?$ 400\n"
     ]
    },
    {
     "name": "stdout",
     "output_type": "stream",
     "text": [
      "Current balance is $400\n"
     ]
    },
    {
     "name": "stdin",
     "output_type": "stream",
     "text": [
      "Press 's' to spin or 'q' to quit:  s\n",
      "Enter the number of lines to bet on (1-3)?  2\n"
     ]
    },
    {
     "name": "stdout",
     "output_type": "stream",
     "text": [
      "Balance: 400, Lines: 2\n"
     ]
    },
    {
     "name": "stdin",
     "output_type": "stream",
     "text": [
      "What would you like to bet on each line? $ 20\n"
     ]
    },
    {
     "name": "stdout",
     "output_type": "stream",
     "text": [
      "You are betting: $20 on 2 lines. Total bet amount is $40\n",
      "C | D | D\n",
      "B | C | B\n",
      "D | D | D\n",
      "You won $ 0\n",
      "You won on line\n",
      "Result of the spin: -40\n",
      "Current balance is $360\n"
     ]
    },
    {
     "name": "stdin",
     "output_type": "stream",
     "text": [
      "Press 's' to spin or 'q' to quit:  s\n",
      "Enter the number of lines to bet on (1-3)?  2\n"
     ]
    },
    {
     "name": "stdout",
     "output_type": "stream",
     "text": [
      "Balance: 360, Lines: 2\n"
     ]
    },
    {
     "name": "stdin",
     "output_type": "stream",
     "text": [
      "What would you like to bet on each line? $ 3\n"
     ]
    },
    {
     "name": "stdout",
     "output_type": "stream",
     "text": [
      "You are betting: $3 on 2 lines. Total bet amount is $6\n",
      "D | B | C\n",
      "D | A | B\n",
      "C | D | A\n",
      "You won $ 0\n",
      "You won on line\n",
      "Result of the spin: -6\n",
      "Current balance is $354\n"
     ]
    },
    {
     "name": "stdin",
     "output_type": "stream",
     "text": [
      "Press 's' to spin or 'q' to quit:  s\n",
      "Enter the number of lines to bet on (1-3)?  2\n"
     ]
    },
    {
     "name": "stdout",
     "output_type": "stream",
     "text": [
      "Balance: 354, Lines: 2\n"
     ]
    },
    {
     "name": "stdin",
     "output_type": "stream",
     "text": [
      "What would you like to bet on each line? $ 30\n"
     ]
    },
    {
     "name": "stdout",
     "output_type": "stream",
     "text": [
      "You are betting: $30 on 2 lines. Total bet amount is $60\n",
      "D | D | B\n",
      "D | D | D\n",
      "B | D | B\n",
      "You won $ 60\n",
      "You won on line 3\n",
      "Result of the spin: 0\n",
      "Current balance is $354\n"
     ]
    },
    {
     "name": "stdin",
     "output_type": "stream",
     "text": [
      "Press 's' to spin or 'q' to quit:  s\n",
      "Enter the number of lines to bet on (1-3)?  3\n"
     ]
    },
    {
     "name": "stdout",
     "output_type": "stream",
     "text": [
      "Balance: 354, Lines: 3\n"
     ]
    },
    {
     "name": "stdin",
     "output_type": "stream",
     "text": [
      "What would you like to bet on each line? $ 30\n"
     ]
    },
    {
     "name": "stdout",
     "output_type": "stream",
     "text": [
      "You are betting: $30 on 3 lines. Total bet amount is $90\n",
      "B | C | B\n",
      "C | B | D\n",
      "D | D | D\n",
      "You won $ 60\n",
      "You won on line 4\n",
      "Result of the spin: -30\n",
      "Current balance is $324\n"
     ]
    }
   ],
   "source": [
    "\n",
    "import random\n",
    "\n",
    "# Constants\n",
    "MAX_LINES = 3\n",
    "MAX_BET = 100\n",
    "MIN_BET = 1\n",
    "\n",
    "ROWS = 3\n",
    "COLS =3 \n",
    "\n",
    "# Define the count and value of each symbol\n",
    "symbol_count = {\n",
    "    \"A\": 2,\n",
    "    \"B\": 4,\n",
    "    \"C\": 6,\n",
    "    \"D\": 8\n",
    "}\n",
    "\n",
    "symbol_value = {\n",
    "    \"A\": 5,\n",
    "    \"B\": 4,\n",
    "    \"C\": 3,\n",
    "    \"D\": 2\n",
    "}\n",
    "\n",
    "# Function to check winnings on each line\n",
    "def check_winnings (columns, lines, bet_amount, values):\n",
    "    winnings = 0\n",
    "    winning_lines = []\n",
    "    for line in range (lines):\n",
    "        symbol = columns [0][line]\n",
    "        for column in columns:\n",
    "            symbol_to_check = column [line]\n",
    "            if symbol != symbol_to_check:\n",
    "                break\n",
    "        else:\n",
    "            winnings +=values [symbol] *bet_amount\n",
    "            winning_lines.append (lines+1)\n",
    "            \n",
    "    return winnings, winning_lines\n",
    "    \n",
    "# Function to get a random slot machine spin\n",
    "def get_slot_machine_spin (rows,cols,symbols):\n",
    "    all_symbols = []\n",
    "    for symbol, symbol_count in symbols.items ():\n",
    "        for _ in range (symbol_count):\n",
    "            all_symbols.append (symbol)\n",
    "            \n",
    "    columns = []\n",
    "    for _ in range (cols):\n",
    "        col =[]\n",
    "        current_symbols = all_symbols [:]\n",
    "        for _ in range(rows):\n",
    "            value= random.choice(current_symbols)\n",
    "            current_symbols.remove(value)\n",
    "            col.append (value)\n",
    "            \n",
    "        columns.append(col)\n",
    "    return columns\n",
    "        \n",
    "# Function to print the slot machine\n",
    "def print_slot_machine (columns):\n",
    "    for row in range (len (columns[0])):\n",
    "        for i, column in enumerate (columns):\n",
    "            if i != len (columns) -1:\n",
    "                print (column[row], end=\" | \")\n",
    "            else:\n",
    "                print (column [row], end=\"\")\n",
    "                \n",
    "        print ()\n",
    "            \n",
    "\n",
    "# Function to deposit money\n",
    "def deposit():\n",
    "    while True:\n",
    "        amount = input(\"How much would you like to deposit?$\")\n",
    "        if amount.isdigit():\n",
    "            amount = int(amount)\n",
    "            if amount > 0:\n",
    "                break\n",
    "            else:\n",
    "                print(\"Amount must be greater than 0\")\n",
    "        else:\n",
    "            print(\"Please enter a number\")\n",
    "    return amount\n",
    "\n",
    "# Function to get the number of lines to bet on\n",
    "def get_number_of_lines():\n",
    "    while True:\n",
    "        lines = input(\"Enter the number of lines to bet on (1-\" + str(MAX_LINES) + \")? \")\n",
    "        if lines.isdigit():\n",
    "            lines = int(lines)\n",
    "            if 1 <= lines <= MAX_LINES:\n",
    "                break\n",
    "            else:\n",
    "                print(\"Enter a valid number of lines.\")\n",
    "        else:\n",
    "            print(\"Please enter a number\")\n",
    "    return lines\n",
    "\n",
    "# Function to get the bet amount\n",
    "def get_bet():\n",
    "    while True:\n",
    "        bet_amount = input(\"What would you like to bet on each line? $\")\n",
    "        if bet_amount.isdigit():\n",
    "            bet_amount = int(bet_amount)\n",
    "            if MIN_BET <= bet_amount <= MAX_BET:\n",
    "                break\n",
    "            else:\n",
    "                print(f\"Amount must be between ${MIN_BET}-${MAX_BET}.\")\n",
    "        else:\n",
    "            print(\"Please enter a number\")\n",
    "    return bet_amount\n",
    "\n",
    "# Function to perform a spin\n",
    "def spin (balance):\n",
    "    lines = get_number_of_lines()\n",
    "    print(f\"Balance: {balance}, Lines: {lines}\")\n",
    "    while True:\n",
    "        bet_amount = get_bet()\n",
    "        total_bet= bet_amount*lines\n",
    "        \n",
    "        if total_bet> balance:\n",
    "            print (f\"You do not have enough to bet that amount. Your current balance is: $ {balance}\")\n",
    "        else:\n",
    "            break\n",
    "\n",
    "    print(\n",
    "        f\"You are betting: ${bet_amount} on {lines} lines. Total bet amount is ${total_bet}\")\n",
    "    slots = get_slot_machine_spin (ROWS, COLS, symbol_count)\n",
    "    print_slot_machine (slots)\n",
    "    winnings,winning_lines = check_winnings (slots, lines, bet_amount, symbol_value)\n",
    "    print (f\"You won $ {winnings}\")\n",
    "    print(f\"You won on line\", *winning_lines)\n",
    "    return winnings - total_bet\n",
    "\n",
    "# Main function\n",
    "def main():\n",
    "    balance = deposit()\n",
    "    while True:\n",
    "        print (f\"Current balance is ${balance}\")\n",
    "        user_input = input(\"Press 's' to spin or 'q' to quit: \")\n",
    "        \n",
    "        if user_input == \"q\":\n",
    "            break\n",
    "        elif user_input == \"s\":\n",
    "            result = spin(balance)\n",
    "            print(f\"Result of the spin: {result}\")\n",
    "            balance += result\n",
    "        else:\n",
    "            print(\"Invalid input. Please enter 's' to spin or 'q' to quit.\")\n",
    "            break\n",
    "    print (f\"You left with ${balance}\")\n",
    "\n",
    "# Run the main function    \n",
    "main()"
   ]
  },
  {
   "cell_type": "code",
   "execution_count": null,
   "id": "cc9e7c91-447e-4a3d-bee2-6cbcee64c3d8",
   "metadata": {},
   "outputs": [],
   "source": []
  },
  {
   "cell_type": "code",
   "execution_count": null,
   "id": "fcbb8ded-2f55-49e9-a642-477fa3597486",
   "metadata": {},
   "outputs": [],
   "source": []
  },
  {
   "cell_type": "code",
   "execution_count": null,
   "id": "d1e65bd2-b0a1-4457-9d6d-00c762ed1964",
   "metadata": {},
   "outputs": [],
   "source": []
  }
 ],
 "metadata": {
  "kernelspec": {
   "display_name": "anaconda-panel-2023.05-py310",
   "language": "python",
   "name": "conda-env-anaconda-panel-2023.05-py310-py"
  },
  "language_info": {
   "codemirror_mode": {
    "name": "ipython",
    "version": 3
   },
   "file_extension": ".py",
   "mimetype": "text/x-python",
   "name": "python",
   "nbconvert_exporter": "python",
   "pygments_lexer": "ipython3",
   "version": "3.11.5"
  }
 },
 "nbformat": 4,
 "nbformat_minor": 5
}
